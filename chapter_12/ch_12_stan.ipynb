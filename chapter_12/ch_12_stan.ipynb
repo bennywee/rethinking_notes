{
 "cells": [
  {
   "cell_type": "code",
   "execution_count": 92,
   "metadata": {},
   "outputs": [],
   "source": [
    "%matplotlib inline\n",
    "%config InlineBackend.figure_format = 'retina'\n",
    "\n",
    "import pystan\n",
    "import numpy as np\n",
    "import pandas as pd\n",
    "import pymc3 as pm\n",
    "import arviz as az\n",
    "import scipy as sp\n",
    "import matplotlib.pyplot as plt\n",
    "\n",
    "az.style.use('arviz-darkgrid')"
   ]
  },
  {
   "cell_type": "markdown",
   "metadata": {},
   "source": [
    "# Medium"
   ]
  },
  {
   "cell_type": "markdown",
   "metadata": {},
   "source": [
    "## 12M1"
   ]
  },
  {
   "cell_type": "code",
   "execution_count": 115,
   "metadata": {},
   "outputs": [
    {
     "data": {
      "text/html": [
       "<div>\n",
       "<style scoped>\n",
       "    .dataframe tbody tr th:only-of-type {\n",
       "        vertical-align: middle;\n",
       "    }\n",
       "\n",
       "    .dataframe tbody tr th {\n",
       "        vertical-align: top;\n",
       "    }\n",
       "\n",
       "    .dataframe thead th {\n",
       "        text-align: right;\n",
       "    }\n",
       "</style>\n",
       "<table border=\"1\" class=\"dataframe\">\n",
       "  <thead>\n",
       "    <tr style=\"text-align: right;\">\n",
       "      <th></th>\n",
       "      <th>density</th>\n",
       "      <th>surv</th>\n",
       "      <th>propsurv</th>\n",
       "      <th>pred</th>\n",
       "      <th>tsize</th>\n",
       "      <th>size_pred</th>\n",
       "    </tr>\n",
       "  </thead>\n",
       "  <tbody>\n",
       "    <tr>\n",
       "      <th>0</th>\n",
       "      <td>10</td>\n",
       "      <td>9</td>\n",
       "      <td>0.9</td>\n",
       "      <td>0</td>\n",
       "      <td>1</td>\n",
       "      <td>0</td>\n",
       "    </tr>\n",
       "    <tr>\n",
       "      <th>1</th>\n",
       "      <td>10</td>\n",
       "      <td>10</td>\n",
       "      <td>1.0</td>\n",
       "      <td>0</td>\n",
       "      <td>1</td>\n",
       "      <td>0</td>\n",
       "    </tr>\n",
       "    <tr>\n",
       "      <th>2</th>\n",
       "      <td>10</td>\n",
       "      <td>7</td>\n",
       "      <td>0.7</td>\n",
       "      <td>0</td>\n",
       "      <td>1</td>\n",
       "      <td>0</td>\n",
       "    </tr>\n",
       "    <tr>\n",
       "      <th>3</th>\n",
       "      <td>10</td>\n",
       "      <td>10</td>\n",
       "      <td>1.0</td>\n",
       "      <td>0</td>\n",
       "      <td>1</td>\n",
       "      <td>0</td>\n",
       "    </tr>\n",
       "    <tr>\n",
       "      <th>4</th>\n",
       "      <td>10</td>\n",
       "      <td>9</td>\n",
       "      <td>0.9</td>\n",
       "      <td>0</td>\n",
       "      <td>0</td>\n",
       "      <td>0</td>\n",
       "    </tr>\n",
       "  </tbody>\n",
       "</table>\n",
       "</div>"
      ],
      "text/plain": [
       "   density  surv  propsurv  pred  tsize  size_pred\n",
       "0       10     9       0.9     0      1          0\n",
       "1       10    10       1.0     0      1          0\n",
       "2       10     7       0.7     0      1          0\n",
       "3       10    10       1.0     0      1          0\n",
       "4       10     9       0.9     0      0          0"
      ]
     },
     "execution_count": 115,
     "metadata": {},
     "output_type": "execute_result"
    }
   ],
   "source": [
    "frogs = pd.read_csv('/Users/benjaminwee/Documents/courses/resources/Rethinking/Data/reedfrogs.csv',\n",
    "                    sep=\",\")\n",
    "\n",
    "# Create list of clusters (stan doesn't take zero as a cluster id)\n",
    "tanks = np.arange(frogs.shape[0])+1\n",
    "\n",
    "# Create dummies\n",
    "frogs_df = pd.get_dummies(frogs, columns = ['pred', 'size'])\\\n",
    "             .drop(['pred_no', 'size_small'], axis = 1)\\\n",
    "             .rename(columns = {'size_big' : 'tsize',\n",
    "                                'pred_pred' : 'pred'})\\\n",
    "\n",
    "# Create interactive variable\n",
    "frogs_df['size_pred'] = frogs_df['tsize'] * frogs_df['pred']\n",
    "\n",
    "frogs_df.head()"
   ]
  },
  {
   "cell_type": "code",
   "execution_count": 52,
   "metadata": {},
   "outputs": [
    {
     "data": {
      "text/plain": [
       "0    0\n",
       "8    1\n",
       "Name: pred, dtype: uint8"
      ]
     },
     "execution_count": 52,
     "metadata": {},
     "output_type": "execute_result"
    }
   ],
   "source": [
    "frogs_df['pred'].drop_duplicates()"
   ]
  },
  {
   "cell_type": "code",
   "execution_count": 116,
   "metadata": {},
   "outputs": [],
   "source": [
    "m_12_1_clust = '''\n",
    "data {\n",
    "    int N; // Number of rows\n",
    "    int n_tanks; // Number of clusters\n",
    "    int density[N]; // Number in each tank\n",
    "    int surv[N]; // Number survived\n",
    "    int tank_id[N]; // Cluster identifier\n",
    "}\n",
    "parameters {\n",
    "    real alpha;\n",
    "    real<lower=0> sigma;\n",
    "    vector[n_tanks] a_tank; // Fixed effects\n",
    "}\n",
    "model {\n",
    "    vector[N] p; // parameter p\n",
    "    \n",
    "    // Prior Model \n",
    "    target += normal_lpdf(alpha | 0, 1);\n",
    "    target += cauchy_lpdf(sigma | 0, 1);\n",
    "    target += normal_lpdf(a_tank | alpha, sigma);\n",
    "    \n",
    "    // Observational Model\n",
    "    for(n in 1:N) p[n] = inv_logit(a_tank[tank_id[n]]); // Inverse logit of Linear model (log-odds)\n",
    "    target += binomial_lpmf(surv|density, p); // Log-likelihood\n",
    "}\n",
    "generated quantities {\n",
    "    vector[N] log_lik;\n",
    "    {\n",
    "    vector[N] p;\n",
    "    for (n in 1:N){\n",
    "    p[n] = inv_logit(a_tank[tank_id[n]]);\n",
    "    log_lik[n] = binomial_lpmf(surv[n]|density[n], p[n]);\n",
    "    }\n",
    "    }\n",
    "}\n",
    "'''\n",
    "\n",
    "m_12_1_pred = '''\n",
    "data {\n",
    "    int N; // Number of rows\n",
    "    int n_tanks; // Number of clusters\n",
    "    int density[N]; // Number in each tank\n",
    "    int surv[N]; // Number survived\n",
    "    int tank_id[N]; // Cluster identifier\n",
    "    int pred[N]; // Pred covariate\n",
    "}\n",
    "parameters {\n",
    "    real alpha;\n",
    "    real<lower=0> sigma;\n",
    "    real bpred;\n",
    "    vector[n_tanks] a_tank; // Fixed effects\n",
    "}\n",
    "model {\n",
    "    vector[N] p; // parameter p\n",
    "    \n",
    "    // Prior Model \n",
    "    target += normal_lpdf(alpha | 0, 1);\n",
    "    target += cauchy_lpdf(sigma | 0, 1);\n",
    "    target += normal_lpdf(a_tank | alpha, sigma);\n",
    "    target += normal_lpdf(bpred | 0, 1);\n",
    "    \n",
    "    // Observational Model\n",
    "    for(n in 1:N) p[n] = inv_logit(a_tank[tank_id[n]] + bpred * pred[n]); // Inverse logit of Linear model (log-odds)\n",
    "    target += binomial_lpmf(surv|density, p); // Log-likelihood\n",
    "}\n",
    "generated quantities {\n",
    "    vector[N] log_lik;\n",
    "    {\n",
    "    vector[N] p;\n",
    "    for (n in 1:N){\n",
    "    p[n] = inv_logit(a_tank[tank_id[n]]+ bpred * pred[n]);\n",
    "    log_lik[n] = binomial_lpmf(surv[n]|density[n], p[n]);\n",
    "    }\n",
    "    }\n",
    "}\n",
    "'''\n",
    "\n",
    "m_12_1_size = '''\n",
    "data {\n",
    "    int N; // Number of rows\n",
    "    int n_tanks; // Number of clusters\n",
    "    int density[N]; // Number in each tank\n",
    "    int surv[N]; // Number survived\n",
    "    int tank_id[N]; // Cluster identifier\n",
    "    int tsize[N]; //size covariate\n",
    "}\n",
    "parameters {\n",
    "    real alpha;\n",
    "    real<lower=0> sigma;\n",
    "    vector[n_tanks] a_tank; // Fixed effects\n",
    "    real bsize;\n",
    "}\n",
    "model {\n",
    "    vector[N] p; // parameter p\n",
    "    \n",
    "    // Prior Model \n",
    "    target += normal_lpdf(alpha | 0, 1);\n",
    "    target += cauchy_lpdf(sigma | 0, 1);\n",
    "    target += normal_lpdf(a_tank | alpha, sigma);\n",
    "    target += normal_lpdf(bsize| 0, 1);\n",
    "    \n",
    "    // Observational Model\n",
    "    for(n in 1:N) p[n] = inv_logit(a_tank[tank_id[n]] + bsize * tsize[n]); // Inverse logit of Linear model (log-odds)\n",
    "    target += binomial_lpmf(surv|density, p); // Log-likelihood\n",
    "}\n",
    "generated quantities {\n",
    "    vector[N] log_lik;\n",
    "    {\n",
    "    vector[N] p;\n",
    "    for (n in 1:N){\n",
    "    p[n] = inv_logit(a_tank[tank_id[n]]+ bsize * tsize[n]);\n",
    "    log_lik[n] = binomial_lpmf(surv[n]|density[n], p[n]);\n",
    "    }\n",
    "    }\n",
    "}\n",
    "'''\n",
    "\n",
    "m_12_1_both = '''\n",
    "data {\n",
    "    int N; // Number of rows\n",
    "    int n_tanks; // Number of clusters\n",
    "    int density[N]; // Number in each tank\n",
    "    int surv[N]; // Number survived\n",
    "    int tank_id[N]; // Cluster identifier\n",
    "    int pred[N]; // pred covariate\n",
    "    int tsize[N]; // size covariate\n",
    "}\n",
    "parameters {\n",
    "    real alpha;\n",
    "    real<lower=0> sigma;\n",
    "    vector[n_tanks] a_tank; // Fixed effects\n",
    "    real bsize;\n",
    "    real bpred;\n",
    "    \n",
    "}\n",
    "model {\n",
    "    vector[N] p; // parameter p\n",
    "    \n",
    "    // Prior Model \n",
    "    target += normal_lpdf(alpha | 0, 1);\n",
    "    target += cauchy_lpdf(sigma | 0, 1);\n",
    "    target += normal_lpdf(a_tank | alpha, sigma);\n",
    "    target += normal_lpdf(bsize| 0, 1);\n",
    "    target += normal_lpdf(bpred| 0, 1);\n",
    "    \n",
    "    // Observational Model\n",
    "    for(n in 1:N) p[n] = inv_logit(a_tank[tank_id[n]] + bpred * pred[n] + bsize * tsize[n]); // Inverse logit of Linear model (log-odds)\n",
    "    target += binomial_lpmf(surv|density, p); // Log-likelihood\n",
    "}\n",
    "generated quantities {\n",
    "    vector[N] log_lik;\n",
    "    {\n",
    "    vector[N] p;\n",
    "    for (n in 1:N){\n",
    "    p[n] = inv_logit(a_tank[tank_id[n]] + bpred * pred[n] + bsize * tsize[n]);\n",
    "    log_lik[n] = binomial_lpmf(surv[n]|density[n], p[n]);\n",
    "    }\n",
    "    }\n",
    "}\n",
    "'''\n",
    "\n",
    "m_12_1_interact = '''\n",
    "data {\n",
    "    int N; // Number of rows\n",
    "    int n_tanks; // Number of clusters\n",
    "    int density[N]; // Number in each tank\n",
    "    int surv[N]; // Number survived\n",
    "    int tank_id[N]; // Cluster identifier\n",
    "    int pred[N]; // pred covariate\n",
    "    int tsize[N]; // size covariate\n",
    "    int size_pred[N]; // interaction\n",
    "}\n",
    "parameters {\n",
    "    real alpha;\n",
    "    real<lower=0> sigma;\n",
    "    vector[n_tanks] a_tank; // Fixed effects\n",
    "    real bsize;\n",
    "    real bpred;\n",
    "    real binteract;\n",
    "    \n",
    "}\n",
    "model {\n",
    "    vector[N] p; // parameter p\n",
    "    \n",
    "    // Prior Model \n",
    "    target += normal_lpdf(alpha | 0, 1);\n",
    "    target += cauchy_lpdf(sigma | 0, 1);\n",
    "    target += normal_lpdf(a_tank | alpha, sigma);\n",
    "    target += normal_lpdf(bsize| 0, 1);\n",
    "    target += normal_lpdf(bpred| 0, 1);\n",
    "    target += normal_lpdf(binteract| 0, 1);\n",
    "    \n",
    "    // Observational Model\n",
    "    for(n in 1:N) p[n] = inv_logit(a_tank[tank_id[n]] + bpred * pred[n] + bsize * tsize[n] + binteract * size_pred[n]); // Inverse logit of Linear model (log-odds)\n",
    "    target += binomial_lpmf(surv|density, p); // Log-likelihood\n",
    "}\n",
    "generated quantities {\n",
    "    vector[N] log_lik;\n",
    "    {\n",
    "    vector[N] p;\n",
    "    for (n in 1:N){\n",
    "    p[n] = inv_logit(a_tank[tank_id[n]] + bpred * pred[n] + bsize * tsize[n] + binteract * size_pred[n]);\n",
    "    log_lik[n] = binomial_lpmf(surv[n]|density[n], p[n]);\n",
    "    }\n",
    "    }\n",
    "}\n",
    "'''"
   ]
  },
  {
   "cell_type": "code",
   "execution_count": 104,
   "metadata": {},
   "outputs": [
    {
     "name": "stderr",
     "output_type": "stream",
     "text": [
      "INFO:pystan:COMPILING THE C++ CODE FOR MODEL anon_model_ab13b23ba70b2ddb457545957ec7499b NOW.\n"
     ]
    }
   ],
   "source": [
    "clust = pystan.StanModel(model_code=m_12_1_clust)"
   ]
  },
  {
   "cell_type": "code",
   "execution_count": 105,
   "metadata": {},
   "outputs": [
    {
     "name": "stderr",
     "output_type": "stream",
     "text": [
      "INFO:pystan:COMPILING THE C++ CODE FOR MODEL anon_model_ee1357fd3ae2151fd8b34db7170010c9 NOW.\n"
     ]
    }
   ],
   "source": [
    "size = pystan.StanModel(model_code=m_12_1_size)"
   ]
  },
  {
   "cell_type": "code",
   "execution_count": 106,
   "metadata": {},
   "outputs": [
    {
     "name": "stderr",
     "output_type": "stream",
     "text": [
      "INFO:pystan:COMPILING THE C++ CODE FOR MODEL anon_model_5c253d5da5d21d42494e1178195f5f7c NOW.\n"
     ]
    }
   ],
   "source": [
    "pred = pystan.StanModel(model_code=m_12_1_pred)"
   ]
  },
  {
   "cell_type": "code",
   "execution_count": 107,
   "metadata": {},
   "outputs": [
    {
     "name": "stderr",
     "output_type": "stream",
     "text": [
      "INFO:pystan:COMPILING THE C++ CODE FOR MODEL anon_model_2041daf9bbfff65db67534fe4ce350e7 NOW.\n"
     ]
    }
   ],
   "source": [
    "both = pystan.StanModel(model_code=m_12_1_both)"
   ]
  },
  {
   "cell_type": "code",
   "execution_count": 117,
   "metadata": {},
   "outputs": [
    {
     "name": "stderr",
     "output_type": "stream",
     "text": [
      "INFO:pystan:COMPILING THE C++ CODE FOR MODEL anon_model_dded980c56938b7b231551a40f617757 NOW.\n"
     ]
    }
   ],
   "source": [
    "interact = pystan.StanModel(model_code=m_12_1_interact)"
   ]
  },
  {
   "cell_type": "code",
   "execution_count": 118,
   "metadata": {},
   "outputs": [],
   "source": [
    "frog_df = dict(N = len(frogs_df),\n",
    "               n_tanks = max(tanks),\n",
    "               tank_id = tanks,\n",
    "               density = frogs_df['density'],\n",
    "               surv = frogs_df['surv'],\n",
    "               pred = frogs_df['pred'],\n",
    "               tsize = frogs_df['tsize'],\n",
    "               size_pred = frogs_df['size_pred'])"
   ]
  },
  {
   "cell_type": "code",
   "execution_count": 119,
   "metadata": {},
   "outputs": [],
   "source": [
    "fit_m_12_1_clust = clust.sampling(data=frog_df)\n",
    "fit_m_12_1_size = size.sampling(data=frog_df)\n",
    "fit_m_12_1_pred = pred.sampling(data=frog_df)\n",
    "fit_m_12_1_both = both.sampling(data=frog_df)\n",
    "fit_m_12_1_interact = interact.sampling(data=frog_df)"
   ]
  },
  {
   "cell_type": "code",
   "execution_count": 120,
   "metadata": {},
   "outputs": [],
   "source": [
    "samples_m_12_1_clust = az.from_pystan(posterior=fit_m_12_1_clust)\n",
    "samples_m_12_1_size = az.from_pystan(posterior=fit_m_12_1_size)\n",
    "samples_m_12_1_pred = az.from_pystan(posterior=fit_m_12_1_pred)\n",
    "samples_m_12_1_both = az.from_pystan(posterior=fit_m_12_1_both)\n",
    "samples_m_12_1_interact = az.from_pystan(posterior=fit_m_12_1_interact)"
   ]
  },
  {
   "cell_type": "code",
   "execution_count": 121,
   "metadata": {},
   "outputs": [
    {
     "data": {
      "image/png": "[encoded data removed]",
      "text/plain": [
       "<Figure size 900x400 with 1 Axes>"
      ]
     },
     "metadata": {
      "image/png": {
       "height": 411,
       "width": 911
      }
     },
     "output_type": "display_data"
    }
   ],
   "source": [
    "az.plot_forest([samples_m_12_1_clust, samples_m_12_1_size, samples_m_12_1_pred, samples_m_12_1_both, samples_m_12_1_interact], \n",
    "               model_names=[\"clusters\", \"size\", \"pred\", \"pred_size\", \"pred_size_interaction\"], \n",
    "               var_names=[\"sigma\"], credible_interval=.89, figsize=(9,4), combined=True);"
   ]
  },
  {
   "cell_type": "markdown",
   "metadata": {},
   "source": [
    "More variation between clusters when no predictor variables. Adding variables absorb varation, so the variation between clusters become smaller. Size variable does not account for much variation so sigma is roughly the same as no predictor model."
   ]
  },
  {
   "cell_type": "markdown",
   "metadata": {},
   "source": [
    "## 12M2"
   ]
  },
  {
   "cell_type": "code",
   "execution_count": 122,
   "metadata": {},
   "outputs": [
    {
     "name": "stderr",
     "output_type": "stream",
     "text": [
      "/Users/benjaminwee/anaconda/lib/python3.6/site-packages/arviz/stats/stats.py:1126: UserWarning: For one or more samples the posterior variance of the log predictive densities exceeds 0.4. This could be indication of WAIC starting to fail. \n",
      "See http://arxiv.org/abs/1507.04544 for details\n",
      "  \"For one or more samples the posterior variance of the log predictive \"\n"
     ]
    },
    {
     "data": {
      "text/html": [
       "<div>\n",
       "<style scoped>\n",
       "    .dataframe tbody tr th:only-of-type {\n",
       "        vertical-align: middle;\n",
       "    }\n",
       "\n",
       "    .dataframe tbody tr th {\n",
       "        vertical-align: top;\n",
       "    }\n",
       "\n",
       "    .dataframe thead th {\n",
       "        text-align: right;\n",
       "    }\n",
       "</style>\n",
       "<table border=\"1\" class=\"dataframe\">\n",
       "  <thead>\n",
       "    <tr style=\"text-align: right;\">\n",
       "      <th></th>\n",
       "      <th>rank</th>\n",
       "      <th>waic</th>\n",
       "      <th>p_waic</th>\n",
       "      <th>d_waic</th>\n",
       "      <th>weight</th>\n",
       "      <th>se</th>\n",
       "      <th>dse</th>\n",
       "      <th>warning</th>\n",
       "      <th>waic_scale</th>\n",
       "    </tr>\n",
       "  </thead>\n",
       "  <tbody>\n",
       "    <tr>\n",
       "      <th>pred</th>\n",
       "      <td>0</td>\n",
       "      <td>199.295</td>\n",
       "      <td>19.2421</td>\n",
       "      <td>0</td>\n",
       "      <td>0.25022</td>\n",
       "      <td>8.48565</td>\n",
       "      <td>0</td>\n",
       "      <td>True</td>\n",
       "      <td>deviance</td>\n",
       "    </tr>\n",
       "    <tr>\n",
       "      <th>interact</th>\n",
       "      <td>1</td>\n",
       "      <td>200.173</td>\n",
       "      <td>19.2378</td>\n",
       "      <td>0.878638</td>\n",
       "      <td>0.227846</td>\n",
       "      <td>7.16351</td>\n",
       "      <td>3.32046</td>\n",
       "      <td>True</td>\n",
       "      <td>deviance</td>\n",
       "    </tr>\n",
       "    <tr>\n",
       "      <th>both</th>\n",
       "      <td>2</td>\n",
       "      <td>200.412</td>\n",
       "      <td>19.4415</td>\n",
       "      <td>1.11715</td>\n",
       "      <td>0.148664</td>\n",
       "      <td>7.20987</td>\n",
       "      <td>1.67595</td>\n",
       "      <td>True</td>\n",
       "      <td>deviance</td>\n",
       "    </tr>\n",
       "    <tr>\n",
       "      <th>clusters</th>\n",
       "      <td>3</td>\n",
       "      <td>200.739</td>\n",
       "      <td>21.1895</td>\n",
       "      <td>1.44377</td>\n",
       "      <td>0.187126</td>\n",
       "      <td>8.67104</td>\n",
       "      <td>5.42809</td>\n",
       "      <td>True</td>\n",
       "      <td>deviance</td>\n",
       "    </tr>\n",
       "    <tr>\n",
       "      <th>size</th>\n",
       "      <td>4</td>\n",
       "      <td>200.78</td>\n",
       "      <td>21.1479</td>\n",
       "      <td>1.48531</td>\n",
       "      <td>0.186144</td>\n",
       "      <td>9.32528</td>\n",
       "      <td>5.45727</td>\n",
       "      <td>True</td>\n",
       "      <td>deviance</td>\n",
       "    </tr>\n",
       "  </tbody>\n",
       "</table>\n",
       "</div>"
      ],
      "text/plain": [
       "         rank     waic   p_waic    d_waic    weight       se      dse warning  \\\n",
       "pred        0  199.295  19.2421         0   0.25022  8.48565        0    True   \n",
       "interact    1  200.173  19.2378  0.878638  0.227846  7.16351  3.32046    True   \n",
       "both        2  200.412  19.4415   1.11715  0.148664  7.20987  1.67595    True   \n",
       "clusters    3  200.739  21.1895   1.44377  0.187126  8.67104  5.42809    True   \n",
       "size        4   200.78  21.1479   1.48531  0.186144  9.32528  5.45727    True   \n",
       "\n",
       "         waic_scale  \n",
       "pred       deviance  \n",
       "interact   deviance  \n",
       "both       deviance  \n",
       "clusters   deviance  \n",
       "size       deviance  "
      ]
     },
     "execution_count": 122,
     "metadata": {},
     "output_type": "execute_result"
    }
   ],
   "source": [
    "ll_clust = az.from_pystan(fit_m_12_1_clust, log_likelihood=\"log_lik\")\n",
    "ll_size = az.from_pystan(fit_m_12_1_size, log_likelihood=\"log_lik\")\n",
    "ll_pred = az.from_pystan(fit_m_12_1_pred, log_likelihood=\"log_lik\")\n",
    "ll_both = az.from_pystan(fit_m_12_1_both, log_likelihood=\"log_lik\")\n",
    "ll_interact = az.from_pystan(fit_m_12_1_interact, log_likelihood=\"log_lik\")\n",
    "\n",
    "compare_dict = {'clusters' : ll_clust,\n",
    "                'size' : ll_size,\n",
    "                'pred' : ll_pred,\n",
    "                'both' : ll_both,\n",
    "                'interact': ll_interact}\n",
    "\n",
    "az.compare(compare_dict, ic=\"waic\")"
   ]
  },
  {
   "cell_type": "markdown",
   "metadata": {},
   "source": [
    "Size only predictor has the weakest performance. Suggests that it's not an important variable. Although, creating an interactive variable in Stan (size[n] * pred[n]) instead of pandas pushed interact below both and clusters in terms of WAIC rank. Unsure why. Doing it in pandas matches PyMC3 results"
   ]
  },
  {
   "cell_type": "code",
   "execution_count": 123,
   "metadata": {},
   "outputs": [
    {
     "ename": "NameError",
     "evalue": "name 'trace_12_1_size' is not defined",
     "output_type": "error",
     "traceback": [
      "\u001b[0;31m---------------------------------------------------------------------------\u001b[0m",
      "\u001b[0;31mNameError\u001b[0m                                 Traceback (most recent call last)",
      "\u001b[0;32m<ipython-input-123-21ca4b51c528>\u001b[0m in \u001b[0;36m<module>\u001b[0;34m()\u001b[0m\n\u001b[0;32m----> 1\u001b[0;31m az.plot_forest([trace_12_1_size, trace_12_1_both, trace_12_1_interact], \n\u001b[0m\u001b[1;32m      2\u001b[0m                \u001b[0mmodel_names\u001b[0m\u001b[0;34m=\u001b[0m\u001b[0;34m[\u001b[0m\u001b[0;34m\"size\"\u001b[0m\u001b[0;34m,\u001b[0m \u001b[0;34m\"pred_size\"\u001b[0m\u001b[0;34m,\u001b[0m \u001b[0;34m\"pred_size_interaction\"\u001b[0m\u001b[0;34m]\u001b[0m\u001b[0;34m,\u001b[0m\u001b[0;34m\u001b[0m\u001b[0m\n\u001b[1;32m      3\u001b[0m                var_names=[\"bsize\"], credible_interval=.89, figsize=(9,4), combined=True);\n",
      "\u001b[0;31mNameError\u001b[0m: name 'trace_12_1_size' is not defined"
     ]
    }
   ],
   "source": [
    "az.plot_forest([trace_12_1_size, trace_12_1_both, trace_12_1_interact], \n",
    "               model_names=[\"size\", \"pred_size\", \"pred_size_interaction\"], \n",
    "               var_names=[\"bsize\"], credible_interval=.89, figsize=(9,4), combined=True);"
   ]
  },
  {
   "cell_type": "code",
   "execution_count": null,
   "metadata": {},
   "outputs": [],
   "source": []
  }
 ],
 "metadata": {
  "kernelspec": {
   "display_name": "Python 3",
   "language": "python",
   "name": "python3"
  },
  "language_info": {
   "codemirror_mode": {
    "name": "ipython",
    "version": 3
   },
   "file_extension": ".py",
   "mimetype": "text/x-python",
   "name": "python",
   "nbconvert_exporter": "python",
   "pygments_lexer": "ipython3",
   "version": "3.6.5"
  }
 },
 "nbformat": 4,
 "nbformat_minor": 2
}
